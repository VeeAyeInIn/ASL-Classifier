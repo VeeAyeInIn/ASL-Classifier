{
  "cells": [
    {
      "cell_type": "code",
      "execution_count": null,
      "metadata": {
        "colab": {
          "base_uri": "https://localhost:8080/"
        },
        "id": "xjxcj9ctZMcf",
        "outputId": "db54278e-16f7-4613-bd50-5f9d9b875320"
      },
      "outputs": [
        {
          "output_type": "stream",
          "name": "stdout",
          "text": [
            "Collecting mediapipe\n",
            "  Downloading mediapipe-0.10.11-cp310-cp310-manylinux_2_17_x86_64.manylinux2014_x86_64.whl (35.6 MB)\n",
            "\u001b[2K     \u001b[90m━━━━━━━━━━━━━━━━━━━━━━━━━━━━━━━━━━━━━━━━\u001b[0m \u001b[32m35.6/35.6 MB\u001b[0m \u001b[31m12.7 MB/s\u001b[0m eta \u001b[36m0:00:00\u001b[0m\n",
            "\u001b[?25hRequirement already satisfied: absl-py in /usr/local/lib/python3.10/dist-packages (from mediapipe) (1.4.0)\n",
            "Requirement already satisfied: attrs>=19.1.0 in /usr/local/lib/python3.10/dist-packages (from mediapipe) (23.2.0)\n",
            "Requirement already satisfied: flatbuffers>=2.0 in /usr/local/lib/python3.10/dist-packages (from mediapipe) (24.3.25)\n",
            "Requirement already satisfied: jax in /usr/local/lib/python3.10/dist-packages (from mediapipe) (0.4.26)\n",
            "Requirement already satisfied: jaxlib in /usr/local/lib/python3.10/dist-packages (from mediapipe) (0.4.26+cuda12.cudnn89)\n",
            "Requirement already satisfied: matplotlib in /usr/local/lib/python3.10/dist-packages (from mediapipe) (3.7.1)\n",
            "Requirement already satisfied: numpy in /usr/local/lib/python3.10/dist-packages (from mediapipe) (1.25.2)\n",
            "Requirement already satisfied: torch in /usr/local/lib/python3.10/dist-packages (from mediapipe) (2.2.1+cu121)\n",
            "Requirement already satisfied: opencv-contrib-python in /usr/local/lib/python3.10/dist-packages (from mediapipe) (4.8.0.76)\n",
            "Requirement already satisfied: protobuf<4,>=3.11 in /usr/local/lib/python3.10/dist-packages (from mediapipe) (3.20.3)\n",
            "Collecting sounddevice>=0.4.4 (from mediapipe)\n",
            "  Downloading sounddevice-0.4.6-py3-none-any.whl (31 kB)\n",
            "Requirement already satisfied: CFFI>=1.0 in /usr/local/lib/python3.10/dist-packages (from sounddevice>=0.4.4->mediapipe) (1.16.0)\n",
            "Requirement already satisfied: ml-dtypes>=0.2.0 in /usr/local/lib/python3.10/dist-packages (from jax->mediapipe) (0.2.0)\n",
            "Requirement already satisfied: opt-einsum in /usr/local/lib/python3.10/dist-packages (from jax->mediapipe) (3.3.0)\n",
            "Requirement already satisfied: scipy>=1.9 in /usr/local/lib/python3.10/dist-packages (from jax->mediapipe) (1.11.4)\n",
            "Requirement already satisfied: contourpy>=1.0.1 in /usr/local/lib/python3.10/dist-packages (from matplotlib->mediapipe) (1.2.1)\n",
            "Requirement already satisfied: cycler>=0.10 in /usr/local/lib/python3.10/dist-packages (from matplotlib->mediapipe) (0.12.1)\n",
            "Requirement already satisfied: fonttools>=4.22.0 in /usr/local/lib/python3.10/dist-packages (from matplotlib->mediapipe) (4.51.0)\n",
            "Requirement already satisfied: kiwisolver>=1.0.1 in /usr/local/lib/python3.10/dist-packages (from matplotlib->mediapipe) (1.4.5)\n",
            "Requirement already satisfied: packaging>=20.0 in /usr/local/lib/python3.10/dist-packages (from matplotlib->mediapipe) (24.0)\n",
            "Requirement already satisfied: pillow>=6.2.0 in /usr/local/lib/python3.10/dist-packages (from matplotlib->mediapipe) (9.4.0)\n",
            "Requirement already satisfied: pyparsing>=2.3.1 in /usr/local/lib/python3.10/dist-packages (from matplotlib->mediapipe) (3.1.2)\n",
            "Requirement already satisfied: python-dateutil>=2.7 in /usr/local/lib/python3.10/dist-packages (from matplotlib->mediapipe) (2.8.2)\n",
            "Requirement already satisfied: filelock in /usr/local/lib/python3.10/dist-packages (from torch->mediapipe) (3.13.4)\n",
            "Requirement already satisfied: typing-extensions>=4.8.0 in /usr/local/lib/python3.10/dist-packages (from torch->mediapipe) (4.11.0)\n",
            "Requirement already satisfied: sympy in /usr/local/lib/python3.10/dist-packages (from torch->mediapipe) (1.12)\n",
            "Requirement already satisfied: networkx in /usr/local/lib/python3.10/dist-packages (from torch->mediapipe) (3.3)\n",
            "Requirement already satisfied: jinja2 in /usr/local/lib/python3.10/dist-packages (from torch->mediapipe) (3.1.3)\n",
            "Requirement already satisfied: fsspec in /usr/local/lib/python3.10/dist-packages (from torch->mediapipe) (2023.6.0)\n",
            "Collecting nvidia-cuda-nvrtc-cu12==12.1.105 (from torch->mediapipe)\n",
            "  Using cached nvidia_cuda_nvrtc_cu12-12.1.105-py3-none-manylinux1_x86_64.whl (23.7 MB)\n",
            "Collecting nvidia-cuda-runtime-cu12==12.1.105 (from torch->mediapipe)\n",
            "  Using cached nvidia_cuda_runtime_cu12-12.1.105-py3-none-manylinux1_x86_64.whl (823 kB)\n",
            "Collecting nvidia-cuda-cupti-cu12==12.1.105 (from torch->mediapipe)\n",
            "  Using cached nvidia_cuda_cupti_cu12-12.1.105-py3-none-manylinux1_x86_64.whl (14.1 MB)\n",
            "Collecting nvidia-cudnn-cu12==8.9.2.26 (from torch->mediapipe)\n",
            "  Using cached nvidia_cudnn_cu12-8.9.2.26-py3-none-manylinux1_x86_64.whl (731.7 MB)\n",
            "Collecting nvidia-cublas-cu12==12.1.3.1 (from torch->mediapipe)\n",
            "  Using cached nvidia_cublas_cu12-12.1.3.1-py3-none-manylinux1_x86_64.whl (410.6 MB)\n",
            "Collecting nvidia-cufft-cu12==11.0.2.54 (from torch->mediapipe)\n",
            "  Using cached nvidia_cufft_cu12-11.0.2.54-py3-none-manylinux1_x86_64.whl (121.6 MB)\n",
            "Collecting nvidia-curand-cu12==10.3.2.106 (from torch->mediapipe)\n",
            "  Using cached nvidia_curand_cu12-10.3.2.106-py3-none-manylinux1_x86_64.whl (56.5 MB)\n",
            "Collecting nvidia-cusolver-cu12==11.4.5.107 (from torch->mediapipe)\n",
            "  Using cached nvidia_cusolver_cu12-11.4.5.107-py3-none-manylinux1_x86_64.whl (124.2 MB)\n",
            "Collecting nvidia-cusparse-cu12==12.1.0.106 (from torch->mediapipe)\n",
            "  Using cached nvidia_cusparse_cu12-12.1.0.106-py3-none-manylinux1_x86_64.whl (196.0 MB)\n",
            "Collecting nvidia-nccl-cu12==2.19.3 (from torch->mediapipe)\n",
            "  Using cached nvidia_nccl_cu12-2.19.3-py3-none-manylinux1_x86_64.whl (166.0 MB)\n",
            "Collecting nvidia-nvtx-cu12==12.1.105 (from torch->mediapipe)\n",
            "  Using cached nvidia_nvtx_cu12-12.1.105-py3-none-manylinux1_x86_64.whl (99 kB)\n",
            "Requirement already satisfied: triton==2.2.0 in /usr/local/lib/python3.10/dist-packages (from torch->mediapipe) (2.2.0)\n",
            "Collecting nvidia-nvjitlink-cu12 (from nvidia-cusolver-cu12==11.4.5.107->torch->mediapipe)\n",
            "  Using cached nvidia_nvjitlink_cu12-12.4.127-py3-none-manylinux2014_x86_64.whl (21.1 MB)\n",
            "Requirement already satisfied: pycparser in /usr/local/lib/python3.10/dist-packages (from CFFI>=1.0->sounddevice>=0.4.4->mediapipe) (2.22)\n",
            "Requirement already satisfied: six>=1.5 in /usr/local/lib/python3.10/dist-packages (from python-dateutil>=2.7->matplotlib->mediapipe) (1.16.0)\n",
            "Requirement already satisfied: MarkupSafe>=2.0 in /usr/local/lib/python3.10/dist-packages (from jinja2->torch->mediapipe) (2.1.5)\n",
            "Requirement already satisfied: mpmath>=0.19 in /usr/local/lib/python3.10/dist-packages (from sympy->torch->mediapipe) (1.3.0)\n",
            "Installing collected packages: nvidia-nvtx-cu12, nvidia-nvjitlink-cu12, nvidia-nccl-cu12, nvidia-curand-cu12, nvidia-cufft-cu12, nvidia-cuda-runtime-cu12, nvidia-cuda-nvrtc-cu12, nvidia-cuda-cupti-cu12, nvidia-cublas-cu12, sounddevice, nvidia-cusparse-cu12, nvidia-cudnn-cu12, nvidia-cusolver-cu12, mediapipe\n",
            "Successfully installed mediapipe-0.10.11 nvidia-cublas-cu12-12.1.3.1 nvidia-cuda-cupti-cu12-12.1.105 nvidia-cuda-nvrtc-cu12-12.1.105 nvidia-cuda-runtime-cu12-12.1.105 nvidia-cudnn-cu12-8.9.2.26 nvidia-cufft-cu12-11.0.2.54 nvidia-curand-cu12-10.3.2.106 nvidia-cusolver-cu12-11.4.5.107 nvidia-cusparse-cu12-12.1.0.106 nvidia-nccl-cu12-2.19.3 nvidia-nvjitlink-cu12-12.4.127 nvidia-nvtx-cu12-12.1.105 sounddevice-0.4.6\n"
          ]
        }
      ],
      "source": [
        "!pip install mediapipe"
      ]
    },
    {
      "cell_type": "code",
      "execution_count": null,
      "metadata": {
        "colab": {
          "base_uri": "https://localhost:8080/"
        },
        "id": "arzcxv2gX9WI",
        "outputId": "bfc4b18c-d7d4-4d1f-d434-1387e1f3b01a"
      },
      "outputs": [
        {
          "output_type": "stream",
          "name": "stdout",
          "text": [
            "Mounted at /content/gdrive/\n"
          ]
        }
      ],
      "source": [
        "from google.colab import drive\n",
        "drive.mount('/content/gdrive/')"
      ]
    },
    {
      "cell_type": "code",
      "execution_count": null,
      "metadata": {
        "id": "1lL_frI5ZSXK"
      },
      "outputs": [],
      "source": [
        "import numpy as np\n",
        "import pandas as pd\n",
        "import mediapipe as mp\n",
        "import cv2"
      ]
    },
    {
      "cell_type": "code",
      "execution_count": null,
      "metadata": {
        "id": "5OKnm8LYYSrD"
      },
      "outputs": [],
      "source": [
        "import os\n",
        "\n",
        "image_directory = '/content/gdrive/MyDrive/Spring 2024/CS 4824/Full_Images'\n",
        "\n",
        "#folderInPath = os.listdir(dataPath)\n",
        "#for folder in folderInPath:\n",
        "#  p = dataPath + '/' + folder\n",
        "#  filesInPath = os.listdir(p)\n",
        "#  images = [folder]\n",
        "#  for fil in filesInPath:\n",
        "#    images.append(p + '/' + fil)\n",
        "#  print(images)\n",
        "\n"
      ]
    },
    {
      "cell_type": "code",
      "execution_count": null,
      "metadata": {
        "id": "K2UpYEqPZVsM"
      },
      "outputs": [],
      "source": [
        "mp_drawing = mp.solutions.drawing_utils\n",
        "mp_drawing_styles = mp.solutions.drawing_styles\n",
        "mp_hands = mp.solutions.hands\n",
        "\n",
        "def process_image(file_path):\n",
        "\n",
        "  with mp_hands.Hands(\n",
        "    static_image_mode=True,\n",
        "    max_num_hands=1,\n",
        "    min_detection_confidence=0.5) as hands:\n",
        "    for idx, file in enumerate([file_path]):\n",
        "      # Read an image, flip it around y-axis for correct handedness output (see\n",
        "      # above).\n",
        "      image = cv2.flip(cv2.imread(file), 1)\n",
        "      # Convert the BGR image to RGB before processing.\n",
        "      # try:\n",
        "      try:\n",
        "        results = hands.process(cv2.cvtColor(image, cv2.COLOR_BGR2RGB))\n",
        "      except:\n",
        "        return True\n",
        "      # except:\n",
        "      #   continue\n",
        "\n",
        "      # Print handedness and draw hand landmarks on the image.\n",
        "      # print('Handedness:', results.multi_handedness)\n",
        "      if not results.multi_hand_landmarks:\n",
        "        return False\n",
        "      image_height, image_width, _ = image.shape\n",
        "      # annotated_image = image.copy()\n",
        "      # for hand_landmarks in results.multi_hand_landmarks:\n",
        "        # if verbose_testing_output:\n",
        "          # print('hand_landmarks:', hand_landmarks)\n",
        "          # print(\n",
        "          #     f'Index finger tip coordinates: (',\n",
        "          #     f'{hand_landmarks.landmark[mp_hands.HandLandmark.INDEX_FINGER_TIP].x * image_width}, '\n",
        "          #     f'{hand_landmarks.landmark[mp_hands.HandLandmark.INDEX_FINGER_TIP].y * image_height})'\n",
        "          # )\n",
        "          # test_vector = hand_vector(hand_landmarks, mp_hands.HandLandmark.INDEX_FINGER_TIP, mp_hands.HandLandmark.INDEX_FINGER_DIP)\n",
        "          # print(f'Index Finger Dip to Tip: ', test_vector)\n",
        "      #  mp_drawing.draw_landmarks(\n",
        "      #       annotated_image,\n",
        "      #       hand_landmarks,\n",
        "      #       mp_hands.HAND_CONNECTIONS,\n",
        "      #       mp_drawing_styles.get_default_hand_landmarks_style(),\n",
        "      #       mp_drawing_styles.get_default_hand_connections_style())\n",
        "      # cv2.imwrite(\n",
        "      #    '/tmp/annotated_image' + str(idx) + '.png', cv2.flip(annotated_image, 1))\n",
        "      # Draw hand world landmarks.\n",
        "      if not results.multi_hand_world_landmarks:\n",
        "        return None\n",
        "      # for hand_world_landmarks in results.multi_hand_world_landmarks:\n",
        "        # print(hand_world_landmarks)\n",
        "      return results.multi_hand_world_landmarks[0]\n",
        "        #mp_drawing.plot_landmarks(\n",
        "        #  hand_world_landmarks, mp_hands.HAND_CONNECTIONS, azimuth=5)"
      ]
    },
    {
      "cell_type": "code",
      "execution_count": null,
      "metadata": {
        "id": "u1yKW_UfajsR"
      },
      "outputs": [],
      "source": [
        "def process_letter(letter, iterations, verbose=False):\n",
        "\n",
        "  processed = 0\n",
        "  successes = 0\n",
        "\n",
        "  all_landmarks = []\n",
        "  all_flat_landmarks = []\n",
        "\n",
        "  for i in range(iterations):\n",
        "    if verbose:\n",
        "      print(f'Processing {letter}{i+1}.jpg')\n",
        "    hand = process_image(f'{image_directory}/{letter}/{letter}{i+1}.jpg')\n",
        "    processed += 1\n",
        "    if hand is True:\n",
        "      print(f'Something went wrong with \"{letter}{i+1}.jpg\".')\n",
        "      return processed, successes\n",
        "    if hand is None:\n",
        "      if verbose:\n",
        "        print(f'Failed to process {letter}{i+1}.jpg')\n",
        "      continue\n",
        "    if hand is False:\n",
        "      if verbose:\n",
        "        print(f'Failed to process {letter}{i+1}.jpg')\n",
        "      continue\n",
        "    # print(hand)\n",
        "    landmarks = [(pos.x, pos.y, pos.z) for pos in hand.landmark]\n",
        "    # print(landmarks)\n",
        "    all_landmarks.append(landmarks)\n",
        "\n",
        "    flat_landmarks = []\n",
        "    for landmark in landmarks:\n",
        "      for pos in landmark:\n",
        "        flat_landmarks.append(pos)\n",
        "\n",
        "    all_flat_landmarks.append(flat_landmarks)\n",
        "    successes += 1\n",
        "\n",
        "  df = pd.DataFrame(all_flat_landmarks)\n",
        "  df.to_csv(f'{image_directory}/{letter}.csv', encoding='utf-8', index=False)\n",
        "\n",
        "  return processed, successes"
      ]
    },
    {
      "cell_type": "code",
      "execution_count": null,
      "metadata": {
        "colab": {
          "base_uri": "https://localhost:8080/"
        },
        "id": "T_fp4hhO_sCS",
        "outputId": "fb960e8a-aa66-4c8d-e86f-cb048d5695d4"
      },
      "outputs": [
        {
          "output_type": "stream",
          "name": "stdout",
          "text": [
            "Skipping the letter \"A\", as \"A.csv\" already exists.\n",
            "Skipping the letter \"B\", as \"B.csv\" already exists.\n",
            "Skipping the letter \"C\", as \"C.csv\" already exists.\n",
            "Skipping the letter \"D\", as \"D.csv\" already exists.\n",
            "Skipping the letter \"E\", as \"E.csv\" already exists.\n",
            "Skipping the letter \"F\", as \"F.csv\" already exists.\n",
            "Skipping the letter \"G\", as \"G.csv\" already exists.\n",
            "Skipping the letter \"H\", as \"H.csv\" already exists.\n",
            "Skipping the letter \"I\", as \"I.csv\" already exists.\n",
            "Skipping the letter \"J\", as \"J.csv\" already exists.\n",
            "Skipping the letter \"K\", as \"K.csv\" already exists.\n",
            "Skipping the letter \"L\", as \"L.csv\" already exists.\n",
            "Skipping the letter \"M\", as \"M.csv\" already exists.\n",
            "Skipping the letter \"N\", as \"N.csv\" already exists.\n",
            "Skipping the letter \"O\", as \"O.csv\" already exists.\n",
            "Skipping the letter \"P\", as \"P.csv\" already exists.\n",
            "Skipping the letter \"Q\", as \"Q.csv\" already exists.\n",
            "Skipping the letter \"R\", as \"R.csv\" already exists.\n",
            "Skipping the letter \"S\", as \"S.csv\" already exists.\n",
            "Skipping the letter \"T\", as \"T.csv\" already exists.\n",
            "Skipping the letter \"U\", as \"U.csv\" already exists.\n",
            "Skipping the letter \"V\", as \"V.csv\" already exists.\n",
            "Skipping the letter \"W\", as \"W.csv\" already exists.\n",
            "Skipping the letter \"X\", as \"X.csv\" already exists.\n",
            "Skipping the letter \"Y\", as \"Y.csv\" already exists.\n",
            "Skipping the letter \"Z\", as \"Z.csv\" already exists.\n"
          ]
        }
      ],
      "source": [
        "alphabet = \"ABCDEFGHIJKLMNOPQRSTUVWXYZ\"\n",
        "\n",
        "for letter in alphabet:\n",
        "\n",
        "  csv_path = f'{image_directory}/{letter}.csv'\n",
        "  if os.path.exists(csv_path):\n",
        "    print(f'Skipping the letter \"{letter}\", as \"{letter}.csv\" already exists.')\n",
        "    continue\n",
        "\n",
        "  processed, successes = process_letter(letter, 3000, verbose=False)\n",
        "\n",
        "  print(f'Processed {successes} of {processed} files. [{100 * successes / processed}%]')"
      ]
    },
    {
      "cell_type": "code",
      "source": [
        "# Need to read features 1-63, group into list of 21 tuples of size 3.\n",
        "\n",
        "train_landmarks = dict()\n",
        "\n",
        "for letter in alphabet:\n",
        "\n",
        "  if not os.path.exists(f'{image_directory}/{letter}.csv'):\n",
        "    continue\n",
        "\n",
        "  # List of rows for the letter.\n",
        "  letter_landmarks = pd.read_csv(f'{image_directory}/{letter}.csv', header=None)\n",
        "  letter_positions = []\n",
        "\n",
        "  # Iterate over each row.\n",
        "  for landmarks in letter_landmarks.iloc:\n",
        "    positions = []\n",
        "\n",
        "    # Set of tuples for (x, y, z) for each landmark.\n",
        "    for i in range(0, 63, 3):\n",
        "      positions.append((landmarks[i], landmarks[i + 1], landmarks[i + 2]))\n",
        "    letter_positions.append(positions)\n",
        "\n",
        "  train_landmarks[letter] = letter_positions"
      ],
      "metadata": {
        "id": "mFnGxwNi_zFP"
      },
      "execution_count": null,
      "outputs": []
    },
    {
      "cell_type": "code",
      "source": [
        "import matplotlib.pyplot as plt\n",
        "\n",
        "plot_data = {k:len(v) for k,v in train_landmarks.items()}\n",
        "\n",
        "plt.bar(plot_data.keys(), plot_data.values())\n",
        "plt.show()\n",
        "\n",
        "total_proccessed = sum([v for k,v in plot_data.items()])\n",
        "print(f'{total_proccessed} ({total_proccessed / 72000}) of the 72,000 files were processed.')"
      ],
      "metadata": {
        "colab": {
          "base_uri": "https://localhost:8080/",
          "height": 449
        },
        "id": "m6D6kC7mJffM",
        "outputId": "8d1ddfb6-b5d5-4b3f-b66c-db3e49581168"
      },
      "execution_count": null,
      "outputs": [
        {
          "output_type": "display_data",
          "data": {
            "text/plain": [
              "<Figure size 640x480 with 1 Axes>"
            ],
            "image/png": "[encoded data removed]"
          },
          "metadata": {}
        },
        {
          "output_type": "stream",
          "name": "stdout",
          "text": [
            "60398 (0.8388611111111111) of the 72,000 files were processed.\n"
          ]
        }
      ]
    },
    {
      "cell_type": "markdown",
      "source": [
        "Skip the first row of each DataFrame for Angles-LETTER.csv, as they are messed up."
      ],
      "metadata": {
        "id": "nnibKMFHKtMQ"
      }
    },
    {
      "cell_type": "code",
      "source": [
        "# Process each set of tuples into angles.\n",
        "\n",
        "import math\n",
        "\n",
        "angle_indices = [\n",
        "    (0, 1, 2),    # 1\n",
        "    (1, 2, 3),    # 2\n",
        "    (2, 3, 4),    # 3\n",
        "    (0, 5, 6),    # 4\n",
        "    (5, 6, 7),    # 5\n",
        "    (6, 7, 8),    # 6\n",
        "    (0, 5, 9),    # 7\n",
        "    (5, 9, 10),   # 8\n",
        "    (9, 10, 11),  # 9\n",
        "    (10, 11, 12), # 10\n",
        "    (5, 9, 13),   # 11\n",
        "    (9, 13, 14),  # 12\n",
        "    (13, 14, 15), # 13\n",
        "    (14, 15, 16), # 14\n",
        "    (13, 17, 18), # 15\n",
        "    (17, 18, 19), # 16\n",
        "    (18, 19, 20), # 17\n",
        "    (0, 17, 18)   # 18\n",
        "]\n",
        "\n",
        "def angle_from_points(p1, p2, p3):\n",
        "\n",
        "  v1 = (p2[0] - p1[0], p2[1] - p1[1], p2[2] - p1[2])\n",
        "  v2 = (p3[0] - p2[0], p3[1] - p2[1], p3[2] - p2[2])\n",
        "\n",
        "  dot_product = (v1[0] * v2[0]) + (v1[1] * v2[1]) + (v1[2] * v2[2])\n",
        "  v1_magnitude = (v1[0] ** 2 + v1[1] ** 2 + v1[2] ** 2) ** 0.5\n",
        "  v2_magnitude = (v2[0] ** 2 + v2[1] ** 2 + v2[2] ** 2) ** 0.5\n",
        "\n",
        "  angle = math.acos(dot_product / (v1_magnitude * v2_magnitude))\n",
        "\n",
        "  return angle\n",
        "\n",
        "\n",
        "all_dataframes = []\n",
        "\n",
        "for (letter, all_positions) in train_landmarks.items():\n",
        "\n",
        "  letter_angles = []\n",
        "\n",
        "  for positions in all_positions:\n",
        "\n",
        "    angles = []\n",
        "    for i, j, k in angle_indices:\n",
        "      p1, p2, p3 = positions[i], positions[j], positions[k]\n",
        "      angle = angle_from_points(p1, p2, p3)\n",
        "      angles.append(angle)\n",
        "    letter_angles.append(angles)\n",
        "\n",
        "  angles_df = pd.DataFrame(letter_angles)\n",
        "  angles_df_truncated = angles_df.iloc[1:,:] # Drop the first row.\n",
        "  angles_df_truncated.to_csv(f'{image_directory}/Angles-{letter}.csv', encoding='utf-8', index=False)\n",
        "\n",
        "  all_dataframes.append(angles_df_truncated)\n",
        "\n",
        "\n",
        "compiled_angles = pd.concat([df0 for df0 in all_dataframes], axis=0)\n",
        "compiled_angles.to_csv(f'{image_directory}/X_Training_Angles.csv', encoding='utf-8', index=False)"
      ],
      "metadata": {
        "id": "W_5QVQJnDHH_"
      },
      "execution_count": null,
      "outputs": []
    }
  ],
  "metadata": {
    "colab": {
      "provenance": []
    },
    "kernelspec": {
      "display_name": "Python 3",
      "name": "python3"
    },
    "language_info": {
      "name": "python"
    }
  },
  "nbformat": 4,
  "nbformat_minor": 0
}